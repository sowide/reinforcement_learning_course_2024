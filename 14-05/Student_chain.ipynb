{
 "cells": [
  {
   "cell_type": "markdown",
   "id": "dc9e725796d7352e",
   "metadata": {
    "collapsed": false,
    "jupyter": {
     "outputs_hidden": false
    }
   },
   "source": [
    "### Import necessary libraries\n",
    "\n",
    "- Import necessary libraries: networkx, matplotlib.pyplot, numpy, seaborn, and pyvis.network."
   ]
  },
  {
   "cell_type": "code",
   "execution_count": null,
   "id": "206bdc2f89a0f22",
   "metadata": {
    "collapsed": false,
    "jupyter": {
     "outputs_hidden": false
    }
   },
   "outputs": [],
   "source": [
    "import networkx as nx\n",
    "import matplotlib.pyplot as plt\n",
    "import numpy as np\n",
    "import seaborn as sns\n",
    "from pyvis.network import Network"
   ]
  },
  {
   "cell_type": "markdown",
   "id": "7f2a2eea411f2f32",
   "metadata": {
    "collapsed": false,
    "jupyter": {
     "outputs_hidden": false
    }
   },
   "source": [
    "### Optional function to get an interactive graph"
   ]
  },
  {
   "cell_type": "code",
   "execution_count": null,
   "id": "8ef30b64-497c-41c9-9f70-e9ce8f79bd55",
   "metadata": {
    "ExecuteTime": {
     "end_time": "2024-05-11T13:08:58.613647700Z",
     "start_time": "2024-05-11T13:08:58.607488Z"
    }
   },
   "outputs": [],
   "source": [
    "def make_interacting_graph(G : nx.graph):\n",
    "    g = Network(height=800, width=800, notebook=True, cdn_resources='remote', directed =True)\n",
    "    g.barnes_hut()\n",
    "    \n",
    "    # Add nodes to the network\n",
    "    for node in G.nodes:\n",
    "        node_name = str(node)  # Convert node to string if it's not already\n",
    "        g.add_node(node, label=node_name, size=50, title=node_name, font={'size' : 50})\n",
    "    \n",
    "    # Add edges to the network\n",
    "    for edge in G.edges:\n",
    "        src, dst, action, reward = edge[0], edge[1], G.edges[edge]['action'], G.edges[edge]['reward']\n",
    "        g.add_edge(src, dst, label=f\"Action : {action} \\n Reward : {reward}\", font={'size': 50})\n",
    "\n",
    "    return g"
   ]
  },
  {
   "cell_type": "markdown",
   "id": "5735fa9dac7f52fc",
   "metadata": {
    "collapsed": false,
    "jupyter": {
     "outputs_hidden": false
    }
   },
   "source": [
    "### Define here: States, reward and transition probability matrix\n",
    "\n",
    "- Define the states and rewards for each state.\n",
    "- Define the transition probabilities between states.\n"
   ]
  },
  {
   "cell_type": "code",
   "execution_count": null,
   "id": "9ade8c41a50c5510",
   "metadata": {
    "ExecuteTime": {
     "end_time": "2024-05-11T13:13:07.046841400Z",
     "start_time": "2024-05-11T13:13:07.026808Z"
    },
    "collapsed": false,
    "jupyter": {
     "outputs_hidden": false
    }
   },
   "outputs": [],
   "source": [
    "# Define the states\n",
    "states = ['subject1', ...]\n",
    "\n",
    "# Define the rewards for each state\n",
    "rewards = {\n",
    "    'subject1': {...},\n",
    "}\n",
    "\n",
    "# Define the transition probabilities explicitly\n",
    "transition_probs = {\n",
    "    ('...', '...'): ...,\n",
    "}"
   ]
  },
  {
   "cell_type": "markdown",
   "id": "687c8039c5fd27a3",
   "metadata": {
    "collapsed": false,
    "jupyter": {
     "outputs_hidden": false
    }
   },
   "source": [
    "## Use seaborn to plot the transition probability matrix\n",
    "\n",
    "### Expected Output\n",
    " - Compute the transition matrix based on the defined transition probabilities\n",
    " - Plot the transition matrix using seaborn.heatmap()\n",
    "\n",
    "![alt text](Transition_prob_matrix.png \"Title\")\n"
   ]
  },
  {
   "cell_type": "code",
   "execution_count": null,
   "id": "c78acbd75c54ab0d",
   "metadata": {
    "ExecuteTime": {
     "end_time": "2024-05-11T13:13:08.138452800Z",
     "start_time": "2024-05-11T13:13:07.777234300Z"
    },
    "collapsed": false,
    "jupyter": {
     "outputs_hidden": false
    }
   },
   "outputs": [],
   "source": [
    "# Define the state transition probabilities\n",
    "#...\n",
    "\n",
    "# Assign transition probabilities based on the defined transitions\n",
    "#...\n",
    "\n",
    "# Plot the transition matrix\n",
    "#...\n"
   ]
  },
  {
   "cell_type": "markdown",
   "id": "50d4fe9fb23eabb2",
   "metadata": {
    "collapsed": false,
    "jupyter": {
     "outputs_hidden": false
    }
   },
   "source": [
    "## Building the graph\n",
    "\n",
    "- Create a directed graph using nx.DiGraph().\n",
    "- Add nodes to the graph for each state.\n",
    "- Add edges to represent transitions between states, including associated actions and rewards.\n",
    "\n",
    "### Expected Output\n",
    "![alt text](Graph.png \"Title\")\n",
    "\n"
   ]
  },
  {
   "cell_type": "code",
   "execution_count": null,
   "id": "cce68bef2a604c69",
   "metadata": {
    "ExecuteTime": {
     "end_time": "2024-05-11T13:13:09.288734200Z",
     "start_time": "2024-05-11T13:13:08.957552600Z"
    },
    "collapsed": false,
    "jupyter": {
     "outputs_hidden": false
    }
   },
   "outputs": [],
   "source": [
    "# Create a directed graph\n",
    "G = nx.DiGraph()\n",
    "\n",
    "# Add nodes and edges to the graph\n",
    "\n",
    "\n",
    "# Draw the graph\n",
    "plt.figure(figsize=(12, 8))\n",
    "pos = nx.spring_layout(G, seed=42)  # Define layout for visualization\n",
    "#Hint: See networkx draw and draw_networkx_edge_lables_documentation\n",
    "plt.show()\n",
    "\n",
    "\n",
    "make_interacting_graph(G).show(\"graph.html\")"
   ]
  },
  {
   "cell_type": "markdown",
   "id": "968dc3ae414c4b01",
   "metadata": {
    "collapsed": false,
    "jupyter": {
     "outputs_hidden": false
    }
   },
   "source": [
    "## Computing Value Functions:\n",
    " - Define the discount factor.\n",
    " - Use the Bellman equation to compute the value function of each state.\n"
   ]
  },
  {
   "cell_type": "code",
   "execution_count": null,
   "id": "70633987efbadebf",
   "metadata": {
    "ExecuteTime": {
     "end_time": "2024-05-11T13:13:11.216572600Z",
     "start_time": "2024-05-11T13:13:11.210292700Z"
    },
    "collapsed": false,
    "jupyter": {
     "outputs_hidden": false
    }
   },
   "outputs": [],
   "source": [
    "identity = np.eye(len(transition_matrix))\n",
    "discount_factor = 0\n",
    "V = np.matmul()"
   ]
  },
  {
   "cell_type": "markdown",
   "id": "97190f210d9e03d6",
   "metadata": {
    "collapsed": false,
    "jupyter": {
     "outputs_hidden": false
    }
   },
   "source": [
    "## Visualizing the Graph with Value Functions:\n",
    "- Draw the graph using nx.draw() with appropriate node positions\n",
    "- Annotate each node with its corresponding value function\n",
    "- Annotate each edge with associated actions and rewards\n",
    "\n",
    "### Expected Output\n",
    "\n",
    "![alt text](Value_graph.png \"Title\")"
   ]
  },
  {
   "cell_type": "code",
   "execution_count": null,
   "id": "6258f85d-cbe9-4320-a947-6a035a2b8405",
   "metadata": {
    "ExecuteTime": {
     "end_time": "2024-05-11T13:13:32.388066500Z",
     "start_time": "2024-05-11T13:13:32.072118500Z"
    }
   },
   "outputs": [],
   "source": [
    "# Draw the graph with value functions annotated inside nodes\n",
    "plt.figure(figsize=(12, 8))\n",
    "pos = nx.planar_layout(G)  # Define layout for visualization\n",
    "\n",
    "\n",
    "# Create node labels with formatted value functions\n",
    "\n",
    "# Draw node labels\n",
    "G = nx.relabel_nodes(G, node_labels)\n",
    "\n",
    "# Draw edge labels\n",
    "\n",
    "plt.show()\n",
    "\n",
    "make_interacting_graph(G).show(\"value_graph.html\")"
   ]
  },
  {
   "cell_type": "markdown",
   "id": "c7258525b802f8d7",
   "metadata": {
    "collapsed": false,
    "jupyter": {
     "outputs_hidden": false
    }
   },
   "source": [
    "### Visualizing Value Function Dynamics:\n",
    "- Use matplotlib to visualize how the value function changes with different discount factors.\n",
    "\n",
    "### Expected Output\n",
    "![alt text](Discount_variation.png \"Title\")\n"
   ]
  },
  {
   "cell_type": "code",
   "execution_count": null,
   "id": "4fb454fa-c88d-4f08-b00e-4bcef6dd499f",
   "metadata": {
    "ExecuteTime": {
     "end_time": "2024-05-11T13:21:19.885151200Z",
     "start_time": "2024-05-11T13:21:19.540053700Z"
    }
   },
   "outputs": [],
   "source": [
    "# Computing value functions with different discount factors\n",
    "discount_factors = [0, 0.1, 0.2, 0.3,0.4, 0.5, 0.6, 0.7, 0.8, 0.9]  # Set different discount factors to test\n",
    "for discount_factor in discount_factors:\n",
    "\n",
    "    \n",
    "    # Store the value functions for analysis\n",
    "    \n",
    "\n",
    "# Plotting value functions against discount factors\n",
    "plt.show()"
   ]
  }
 ],
 "metadata": {
  "kernelspec": {
   "display_name": "Python 3 (ipykernel)",
   "language": "python",
   "name": "python3"
  },
  "language_info": {
   "codemirror_mode": {
    "name": "ipython",
    "version": 3
   },
   "file_extension": ".py",
   "mimetype": "text/x-python",
   "name": "python",
   "nbconvert_exporter": "python",
   "pygments_lexer": "ipython3",
   "version": "3.11.2"
  }
 },
 "nbformat": 4,
 "nbformat_minor": 5
}
