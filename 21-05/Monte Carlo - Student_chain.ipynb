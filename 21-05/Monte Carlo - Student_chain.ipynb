{
 "cells": [
  {
   "cell_type": "markdown",
   "id": "dc9e725796d7352e",
   "metadata": {
    "collapsed": false
   },
   "source": [
    "### Import necessary libraries"
   ]
  },
  {
   "cell_type": "code",
   "execution_count": 14,
   "id": "206bdc2f89a0f22",
   "metadata": {
    "collapsed": false,
    "ExecuteTime": {
     "end_time": "2024-05-20T14:48:09.735313Z",
     "start_time": "2024-05-20T14:48:09.731306700Z"
    }
   },
   "outputs": [],
   "source": [
    "import networkx as nx\n",
    "import matplotlib.pyplot as plt\n",
    "import random"
   ]
  },
  {
   "cell_type": "markdown",
   "id": "5735fa9dac7f52fc",
   "metadata": {
    "collapsed": false
   },
   "source": [
    "## Define Rewards and Transitions\n",
    "\n",
    "- Add comments to explain this part of the code\n"
   ]
  },
  {
   "cell_type": "code",
   "execution_count": 15,
   "id": "9ade8c41a50c5510",
   "metadata": {
    "collapsed": false,
    "ExecuteTime": {
     "end_time": "2024-05-20T14:48:10.046651400Z",
     "start_time": "2024-05-20T14:48:10.041409300Z"
    }
   },
   "outputs": [],
   "source": [
    "states = ['subject1', 'subject2', 'subject3', 'instagram', 'bar', 'sleep']\n",
    "\n",
    "\n",
    "actions = {\n",
    "    'subject1': ['Study', 'Instagram'],\n",
    "    'subject2': ['Study', 'Sleep'],\n",
    "    'subject3': ['Study', 'Bar'],\n",
    "    'instagram': ['Instagram', 'Quit'],\n",
    "    'bar': [],  \n",
    "    'sleep': []  \n",
    "}\n",
    "\n",
    "\n",
    "rewards = {\n",
    "    ('subject1', 'Study'): -2,\n",
    "    ('subject1', 'Instagram'): -1,\n",
    "    ('subject2', 'Study'): -2,\n",
    "    ('subject2', 'Sleep'): 0,\n",
    "    ('subject3', 'Study'): 10,\n",
    "    ('subject3', 'Bar'): 1,\n",
    "    ('instagram', 'Instagram'): -1,\n",
    "    ('instagram', 'Quit'): 0\n",
    "}\n",
    "\n",
    "\n",
    "state_transitions = {\n",
    "    ('subject1', 'Study'): 'subject2',\n",
    "    ('subject1', 'Instagram'): 'instagram',\n",
    "    ('subject2', 'Study'): 'subject3',\n",
    "    ('subject2', 'Sleep'): 'sleep',\n",
    "    ('subject3', 'Study'): 'sleep',\n",
    "    ('subject3', 'Bar'): 'bar',\n",
    "    ('instagram', 'Instagram'): 'instagram',\n",
    "    ('instagram', 'Quit'): 'subject1'\n",
    "}\n",
    "\n",
    "\n",
    "bar_transitions = {\n",
    "    'bar': [('subject1', 0.2), ('subject2', 0.4), ('subject3', 0.4)]\n",
    "}"
   ]
  },
  {
   "cell_type": "markdown",
   "id": "687c8039c5fd27a3",
   "metadata": {
    "collapsed": false
   },
   "source": [
    "## Monte Carlo Parameters\n",
    " -  Add comments to explain this part of the code"
   ]
  },
  {
   "cell_type": "code",
   "execution_count": 16,
   "id": "c78acbd75c54ab0d",
   "metadata": {
    "collapsed": false,
    "ExecuteTime": {
     "end_time": "2024-05-20T14:48:10.337812800Z",
     "start_time": "2024-05-20T14:48:10.333284900Z"
    }
   },
   "outputs": [],
   "source": [
    "num_episodes = 100000  \n",
    "gamma = 0.9 \n",
    "alpha = 0.001  \n",
    "epsilon = 0.1 "
   ]
  },
  {
   "cell_type": "markdown",
   "id": "50d4fe9fb23eabb2",
   "metadata": {
    "collapsed": false
   },
   "source": [
    "## Action Value Function, Policy \n",
    "- Add comments to explain this part of the code"
   ]
  },
  {
   "cell_type": "code",
   "execution_count": 17,
   "id": "cce68bef2a604c69",
   "metadata": {
    "collapsed": false,
    "ExecuteTime": {
     "end_time": "2024-05-20T14:48:10.640579800Z",
     "start_time": "2024-05-20T14:48:10.634786100Z"
    }
   },
   "outputs": [],
   "source": [
    "Q = {(state, action): 0.0 for state in states for action in actions.get(state, [])}  \n",
    "returns = {(state, action): [] for state in states for action in actions.get(state, [])}  \n",
    "\n",
    "for state in states:\n",
    "    for action in actions.get(state, []):\n",
    "        if (state, action) not in returns:\n",
    "            returns[(state, action)] = []\n",
    "\n",
    "\n",
    "policy = {state: random.choice(actions[state]) if actions[state] else None for state in states}"
   ]
  },
  {
   "cell_type": "markdown",
   "source": [
    "## Generate an Episode\n",
    " -  Add comments to explain this part of the code\n"
   ],
   "metadata": {
    "collapsed": false
   },
   "id": "4f4502a989b8c542"
  },
  {
   "cell_type": "code",
   "execution_count": 18,
   "outputs": [],
   "source": [
    "def generate_episode(policy):\n",
    "    episode = []  \n",
    "    state = random.choice(states) \n",
    "    visited_states = {state: 0} \n",
    "    while state != 'sleep':  \n",
    "        if state == 'bar':  \n",
    "            next_state = random.choices(\n",
    "                population=[ns for ns, _ in bar_transitions['bar']],\n",
    "                weights=[prob for _, prob in bar_transitions['bar']],\n",
    "                k=1\n",
    "            )[0]\n",
    "            reward = 0  \n",
    "            action = None  \n",
    "        else:\n",
    "            if random.random() < epsilon or policy[state] is None: \n",
    "                action = random.choice(actions[state])  \n",
    "            else:\n",
    "                action = policy[state]  \n",
    "            next_state = state_transitions.get((state, action), None)  \n",
    "            reward = rewards.get((state, action), 0)  \n",
    "\n",
    "        episode.append((state, action, reward))  \n",
    "\n",
    "        if next_state in visited_states:  \n",
    "            visited_states[next_state] += 1\n",
    "            if visited_states[next_state] > 10:  \n",
    "                break\n",
    "        else:\n",
    "            visited_states[next_state] = 1  \n",
    "\n",
    "        state = next_state \n",
    "    return episode"
   ],
   "metadata": {
    "collapsed": false,
    "ExecuteTime": {
     "end_time": "2024-05-20T14:48:10.958103400Z",
     "start_time": "2024-05-20T14:48:10.952820800Z"
    }
   },
   "id": "a8016e27ce66091f"
  },
  {
   "cell_type": "markdown",
   "source": [
    "## Monte Carlo Policy Learning\n",
    " - Add comments to explain this part of the code\n"
   ],
   "metadata": {
    "collapsed": false
   },
   "id": "34bb46a6b2110ec8"
  },
  {
   "cell_type": "code",
   "execution_count": 19,
   "outputs": [],
   "source": [
    "for _ in range(num_episodes):\n",
    "    episode = generate_episode(policy)  \n",
    "    G = 0  \n",
    "    for t in reversed(range(len(episode))): \n",
    "        state, action, reward = episode[t]\n",
    "        G = gamma * G + reward \n",
    "        if action is not None: \n",
    "            returns[(state, action)].append(G) \n",
    "            Q[(state, action)] += alpha * (G - Q[(state, action)]) \n",
    "            \n",
    "            policy[state] = max(actions[state], key=lambda a: Q[(state, a)]) if actions[state] else None"
   ],
   "metadata": {
    "collapsed": false,
    "ExecuteTime": {
     "end_time": "2024-05-20T14:48:11.633006100Z",
     "start_time": "2024-05-20T14:48:11.262139Z"
    }
   },
   "id": "b8bd8de9ae525ff0"
  },
  {
   "cell_type": "markdown",
   "id": "968dc3ae414c4b01",
   "metadata": {
    "collapsed": false
   },
   "source": [
    "## Visualize the learned policy and value functions\n"
   ]
  },
  {
   "cell_type": "code",
   "execution_count": null,
   "id": "70633987efbadebf",
   "metadata": {
    "collapsed": false
   },
   "outputs": [],
   "source": [
    "print(policy)\n",
    "print(Q)"
   ]
  },
  {
   "cell_type": "markdown",
   "id": "97190f210d9e03d6",
   "metadata": {
    "collapsed": false
   },
   "source": [
    "## Visualizing the Graph with Value Functions:\n",
    "- Draw the graph using nx.draw() with appropriate node positions\n",
    "- Annotate each edge with associated actions and rewards\n",
    "- Highlight the best actions obtained by the policy in red\n",
    "- Hint: Use pos = nx.spring_layout(G, seed=39) to get the same layout\n",
    "\n",
    "### Expected Output\n",
    "\n",
    "![alt text](Bestpolicygraph.png \"Title\")"
   ]
  },
  {
   "cell_type": "code",
   "execution_count": 21,
   "id": "6258f85d-cbe9-4320-a947-6a035a2b8405",
   "metadata": {
    "ExecuteTime": {
     "end_time": "2024-05-20T14:48:11.897814800Z",
     "start_time": "2024-05-20T14:48:11.886293Z"
    }
   },
   "outputs": [],
   "source": [
    "\n",
    "G = nx.DiGraph()\n",
    "for state in states:\n",
    "    G.add_node(state) \n",
    "    if state in actions:\n",
    "        continue\n",
    "        \n",
    "##ECC ECC\n"
   ]
  }
 ],
 "metadata": {
  "kernelspec": {
   "display_name": "Python 3 (ipykernel)",
   "language": "python",
   "name": "python3"
  },
  "language_info": {
   "codemirror_mode": {
    "name": "ipython",
    "version": 3
   },
   "file_extension": ".py",
   "mimetype": "text/x-python",
   "name": "python",
   "nbconvert_exporter": "python",
   "pygments_lexer": "ipython3",
   "version": "3.11.2"
  }
 },
 "nbformat": 4,
 "nbformat_minor": 5
}
